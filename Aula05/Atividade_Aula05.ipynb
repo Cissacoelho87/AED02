{
 "cells": [
  {
   "cell_type": "code",
   "execution_count": null,
   "id": "b24ebd79-2c78-495f-bd3d-339678d1a0ff",
   "metadata": {},
   "outputs": [],
   "source": [
    "class Pessoa:\n",
    "    def __init__(self, nome, idade):\n",
    "        self.__nome = nome\n",
    "        self.__idade = idade\n",
    "\n",
    "\n",
    "    def fazer_aniversario(self):\n",
    "        self.__idade = self.__idade + 1\n",
    "\n",
    "    def __str__(self):\n",
    "        return f\"\n"
   ]
  }
 ],
 "metadata": {
  "kernelspec": {
   "display_name": "Python 3 (ipykernel)",
   "language": "python",
   "name": "python3"
  },
  "language_info": {
   "codemirror_mode": {
    "name": "ipython",
    "version": 3
   },
   "file_extension": ".py",
   "mimetype": "text/x-python",
   "name": "python",
   "nbconvert_exporter": "python",
   "pygments_lexer": "ipython3",
   "version": "3.13.5"
  }
 },
 "nbformat": 4,
 "nbformat_minor": 5
}
