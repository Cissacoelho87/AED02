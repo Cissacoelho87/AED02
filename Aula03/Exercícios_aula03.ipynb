{
 "cells": [
  {
   "cell_type": "markdown",
   "id": "653787a7-713d-47c3-be34-11d55d7f42af",
   "metadata": {},
   "source": [
    "Praticando...\n",
    "1. Encontre o valor v de uma lista e retorne seu índeice. Caso não encontre, retorne -1."
   ]
  },
  {
   "cell_type": "code",
   "execution_count": 32,
   "id": "4906be7e-d857-4d42-89af-0921e9b4dd02",
   "metadata": {},
   "outputs": [
    {
     "name": "stdout",
     "output_type": "stream",
     "text": [
      "-1\n",
      "0\n"
     ]
    }
   ],
   "source": [
    "#Com função for\n",
    "\n",
    "lista = [10,20,30,40,50]\n",
    "def busca_valor(lista, valor):\n",
    "    for i in range(len(lista)):\n",
    "        if lista[i] == valor:\n",
    "            return i\n",
    "    return -1\n",
    "print(busca_valor(lista, 0))\n",
    "print(busca_valor(lista, 10))"
   ]
  },
  {
   "cell_type": "code",
   "execution_count": 33,
   "id": "971fdb13-549d-48fd-bf6a-d62d5df30a02",
   "metadata": {},
   "outputs": [
    {
     "name": "stdout",
     "output_type": "stream",
     "text": [
      "4\n",
      "-1\n"
     ]
    }
   ],
   "source": [
    "#Com função while \n",
    "\n",
    "lista = [10,20,30,40,50]\n",
    "def busca_valor2 (lista, valor):\n",
    "    flag = 0\n",
    "    while flag < len(lista):\n",
    "        if lista[flag] == valor:\n",
    "            return flag\n",
    "        flag += 1\n",
    "    return -1\n",
    "print(busca_valor(vetor, 50))\n",
    "print(busca_valor(lista, 0))"
   ]
  },
  {
   "cell_type": "markdown",
   "id": "cd27619a-f5c9-4b1b-a78f-94f04235a6e7",
   "metadata": {},
   "source": [
    "Exercício 2"
   ]
  },
  {
   "cell_type": "code",
   "execution_count": 26,
   "id": "948b03c3-1527-4785-8219-92ae2c1312b1",
   "metadata": {},
   "outputs": [
    {
     "name": "stdout",
     "output_type": "stream",
     "text": [
      "1\n"
     ]
    }
   ],
   "source": [
    "#Com for\n",
    "\n",
    "l = [20,10, 5, 12, 8, 1]\n",
    "def minimo(l):\n",
    "    menor = l[0]\n",
    "    for i in range(1, len(l)):\n",
    "        if l[i] < menor:\n",
    "            menor = l[i]\n",
    "    return menor\n",
    "print(minimo(l))"
   ]
  },
  {
   "cell_type": "markdown",
   "id": "9817732d-a321-456a-92b1-3438ec39bcdd",
   "metadata": {},
   "source": [
    "4. Prática"
   ]
  },
  {
   "cell_type": "code",
   "execution_count": 99,
   "id": "43141d39-b7b9-4044-9db7-72f5a081463a",
   "metadata": {},
   "outputs": [],
   "source": [
    "def buscar_clientes(nome, lista):\n",
    "    for i in range (len(lista)):\n",
    "        if lista[i] == nome:\n",
    "            return i\n",
    "    return -1"
   ]
  },
  {
   "cell_type": "code",
   "execution_count": 100,
   "id": "aed1b772-7e18-4041-9820-0ab5907c7537",
   "metadata": {},
   "outputs": [],
   "source": [
    "lista_nomes = [\"Maria\", \"João\", \"Ana\", \"Pedro\", \"Fátima\", \"Paulo\", \"Rita\", \"Francisco\"]"
   ]
  },
  {
   "cell_type": "code",
   "execution_count": 101,
   "id": "23e8abce-2183-4faa-b52b-a2f506e0d7c4",
   "metadata": {},
   "outputs": [
    {
     "name": "stdin",
     "output_type": "stream",
     "text": [
      "Digite o nome <'sair' para sair>:  Ana\n"
     ]
    },
    {
     "name": "stdout",
     "output_type": "stream",
     "text": [
      "Nome não encontrado!\n"
     ]
    },
    {
     "name": "stdin",
     "output_type": "stream",
     "text": [
      "Digite o nome <'sair' para sair>:  Maria\n"
     ]
    },
    {
     "name": "stdout",
     "output_type": "stream",
     "text": [
      "Nome não encontrado!\n"
     ]
    },
    {
     "name": "stdin",
     "output_type": "stream",
     "text": [
      "Digite o nome <'sair' para sair>:  Marcos\n"
     ]
    },
    {
     "name": "stdout",
     "output_type": "stream",
     "text": [
      "Nome não encontrado!\n"
     ]
    },
    {
     "name": "stdin",
     "output_type": "stream",
     "text": [
      "Digite o nome <'sair' para sair>:  Sair\n"
     ]
    }
   ],
   "source": [
    "while True:\n",
    "    n = input(\"Digite o nome <'sair' para sair>: \")\n",
    "    if n.lower() == \"sair\":\n",
    "        break\n",
    "    else:\n",
    "        i = buscar_clientes(nome, lista_nomes)\n",
    "        if i == -1:\n",
    "            print(\"Convidado não encontrado!\")\n",
    "        else:\n",
    "            print(f\"O nome {n} foi encontrado na lista.\")"
   ]
  },
  {
   "cell_type": "markdown",
   "id": "bb40cbef-ba1c-4a8c-b030-cf9aeb3715bb",
   "metadata": {},
   "source": [
    "Projeto 2: verificando a lista de convidados"
   ]
  },
  {
   "cell_type": "code",
   "execution_count": 115,
   "id": "ee778a6d-0011-4bc6-bc8e-82dd8e3ed887",
   "metadata": {},
   "outputs": [],
   "source": [
    "def buscar_convidado(nome, lista):\n",
    "    for i in range (len(lista)):\n",
    "        if lista[i].lower() == nome.lower():\n",
    "            return i\n",
    "    return -1"
   ]
  },
  {
   "cell_type": "code",
   "execution_count": 133,
   "id": "e4b7d15d-8240-4e4a-a8b9-ada21e0d165d",
   "metadata": {},
   "outputs": [],
   "source": [
    "lista_convidados = [\"Ana Silva\", \"Marcos Cabral\", \"Maria Santos\",  \"José Abreu\", \"Sonia Braga\"]"
   ]
  },
  {
   "cell_type": "code",
   "execution_count": 134,
   "id": "4d4aa183-c567-401e-942e-fb12900fda29",
   "metadata": {},
   "outputs": [
    {
     "name": "stdin",
     "output_type": "stream",
     "text": [
      "Digite o nome do convidado:  Sonia Braga\n"
     ]
    }
   ],
   "source": [
    "nome = input(\"Digite o nome do convidado: \")"
   ]
  },
  {
   "cell_type": "code",
   "execution_count": 135,
   "id": "751a7eb2-03fa-4c44-9cb4-77804a00c0e0",
   "metadata": {},
   "outputs": [
    {
     "name": "stdout",
     "output_type": "stream",
     "text": [
      "Seja bem vindo (a)! O nome Sonia Braga foi encontrado na lista de convidados.\n"
     ]
    }
   ],
   "source": [
    "i = buscar_convidado(nome, lista_convidados)\n",
    "if i == -1:\n",
    "    print(\"Convidado não encontrado!\")\n",
    "else:\n",
    "    print(f\"Seja bem vindo (a)! O nome {nome} foi encontrado na lista de convidados.\")"
   ]
  }
 ],
 "metadata": {
  "kernelspec": {
   "display_name": "Python 3 (ipykernel)",
   "language": "python",
   "name": "python3"
  },
  "language_info": {
   "codemirror_mode": {
    "name": "ipython",
    "version": 3
   },
   "file_extension": ".py",
   "mimetype": "text/x-python",
   "name": "python",
   "nbconvert_exporter": "python",
   "pygments_lexer": "ipython3",
   "version": "3.13.5"
  }
 },
 "nbformat": 4,
 "nbformat_minor": 5
}
