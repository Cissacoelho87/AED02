{
 "cells": [
  {
   "cell_type": "markdown",
   "id": "0a73513d-8d2f-4678-917d-f76ca21bc3fa",
   "metadata": {},
   "source": [
    "# Projeto - Busca Eficiente em um Índice de Livros"
   ]
  },
  {
   "cell_type": "code",
   "execution_count": null,
   "id": "718ca95e-f94d-47e2-8f30-00663bac1ead",
   "metadata": {},
   "outputs": [],
   "source": [
    "# Contexto: Você está trabalhando em um projeto para gerenciar uma biblioteca. As informações sobre os livros (título, autor, ano de publicação) estão armazenadas em uma lista, e essa lista é mantida ordenada alfabeticamente pelo título do livro.\n",
    "\n",
    "# Problema: Os usuários precisam encontrar rapidamente um livro específico sabedo seu título. Uma busca ineficiente pode dificultar a localização dos livros desejados. "
   ]
  },
  {
   "cell_type": "code",
   "execution_count": 24,
   "id": "5667e1f1-889b-4aaa-9cb3-c43ebed8045c",
   "metadata": {},
   "outputs": [],
   "source": [
    "def busca_binaria(v, lista_ord):\n",
    "    esquerda = 0\n",
    "    direita = len(lista_ord) - 1\n",
    "    while esquerda <= direita:\n",
    "        meio = (esquerda + direita) // 2\n",
    "        titulo = lista_ord[meio][0]  # pegar só o título\n",
    "        if v == titulo:\n",
    "            return meio\n",
    "        elif v < titulo:\n",
    "            direita = meio - 1\n",
    "        else:\n",
    "            esquerda = meio + 1\n",
    "    return -1"
   ]
  },
  {
   "cell_type": "code",
   "execution_count": 27,
   "id": "fb27a9e7-a351-4498-a4cd-62b7ba7c7e53",
   "metadata": {},
   "outputs": [
    {
     "name": "stdin",
     "output_type": "stream",
     "text": [
      "Digite o nome do livro:  O Cortiço\n"
     ]
    },
    {
     "name": "stdout",
     "output_type": "stream",
     "text": [
      "Livro encontrado: ('O Cortiço', 'Aluísio Azevedo', '1890')\n"
     ]
    }
   ],
   "source": [
    "# Lista de livros com tuplas (Título, Autor, Ano)\n",
    "\n",
    "l = [\n",
    "(\"Dom Casmurro\", \"Machado de Assis\", \"1900\"),\n",
    "(\"O Alquimista\", \"Paulo Coelho\", \"1988\"), \n",
    "(\"O Caçador de Pipas\", \"Khaled Hosseini\", \"2003\"), \n",
    "(\"O Cortiço\", \"Aluísio Azevedo\", \"1890\"),\n",
    "(\"O Menino do Pijama Listrado\", \"John Boyne\", \"2007\"),\n",
    "(\"O Pequeno Príncipe\", \"Antoine de Saint\", \"1943\"),\n",
    "(\"Primo Basílio\", \"Eça de Queiroz\", \"1878\"), \n",
    "]\n",
    "\n",
    "livro = input(\"Digite o nome do livro: \")\n",
    "\n",
    "indice = busca_binaria(livro, l)\n",
    "\n",
    "if indice != -1:\n",
    "    print(f\"Livro encontrado: {l[indice]}\")\n",
    "else:\n",
    "    print(\"Livro não encontrado.\")"
   ]
  },
  {
   "cell_type": "code",
   "execution_count": null,
   "id": "6a8a47e7-4bf9-415b-887e-a7ca6d448345",
   "metadata": {},
   "outputs": [],
   "source": []
  }
 ],
 "metadata": {
  "kernelspec": {
   "display_name": "Python 3 (ipykernel)",
   "language": "python",
   "name": "python3"
  },
  "language_info": {
   "codemirror_mode": {
    "name": "ipython",
    "version": 3
   },
   "file_extension": ".py",
   "mimetype": "text/x-python",
   "name": "python",
   "nbconvert_exporter": "python",
   "pygments_lexer": "ipython3",
   "version": "3.13.5"
  }
 },
 "nbformat": 4,
 "nbformat_minor": 5
}
