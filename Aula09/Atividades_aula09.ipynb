{
 "cells": [
  {
   "cell_type": "code",
   "execution_count": null,
   "id": "0f16f96a-528b-4193-a146-746110db8bc6",
   "metadata": {},
   "outputs": [],
   "source": [
    "# 3. (PRÁTICA) Escreva uma função recursiva em Python chamada soma_digitos(n) que calcule a soma dos dígitos de um número inteiro positivo n. \n",
    "# Por exemplo, soma_digitos(123) deve retornar 1 + 2 + 3 = 6"
   ]
  },
  {
   "cell_type": "code",
   "execution_count": 5,
   "id": "b0d74b0f-5cb3-4373-bb6e-4168610960c9",
   "metadata": {},
   "outputs": [
    {
     "name": "stdout",
     "output_type": "stream",
     "text": [
      "6\n"
     ]
    }
   ],
   "source": [
    "def soma_digitos(n):\n",
    "    if n < 10:\n",
    "        return n\n",
    "    else:\n",
    "        ultimo_digito = n % 10\n",
    "        resto_do_numero = n // 10\n",
    "        return ultimo_digito + soma_digitos(resto_do_numero)\n",
    "print(soma_digitos(123))"
   ]
  },
  {
   "cell_type": "code",
   "execution_count": null,
   "id": "36390a43-9a09-4f77-a660-b158b99da80d",
   "metadata": {},
   "outputs": [],
   "source": []
  }
 ],
 "metadata": {
  "kernelspec": {
   "display_name": "Python 3 (ipykernel)",
   "language": "python",
   "name": "python3"
  },
  "language_info": {
   "codemirror_mode": {
    "name": "ipython",
    "version": 3
   },
   "file_extension": ".py",
   "mimetype": "text/x-python",
   "name": "python",
   "nbconvert_exporter": "python",
   "pygments_lexer": "ipython3",
   "version": "3.13.5"
  }
 },
 "nbformat": 4,
 "nbformat_minor": 5
}
